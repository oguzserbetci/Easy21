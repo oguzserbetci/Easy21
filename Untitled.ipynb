{
 "cells": [
  {
   "cell_type": "code",
   "execution_count": 40,
   "metadata": {},
   "outputs": [
    {
     "data": {
      "text/plain": [
       "'black'"
      ]
     },
     "execution_count": 40,
     "metadata": {},
     "output_type": "execute_result"
    }
   ],
   "source": [
    "import numpy as np\n",
    "np.random.seed(1)"
   ]
  },
  {
   "cell_type": "code",
   "execution_count": 310,
   "metadata": {},
   "outputs": [],
   "source": [
    "from functools import reduce\n",
    "class Card(object):\n",
    "    def __init__(self):\n",
    "        self.number = 0\n",
    "        self.color = None\n",
    "        \n",
    "    def __radd__(self, other):\n",
    "        if self.color == 'red':\n",
    "            return other - self.number\n",
    "        return other + self.number\n",
    "    \n",
    "    def __repr__(self):\n",
    "        return str(self.number) + ':' + self.color\n",
    "\n",
    "\n",
    "class Player(object):\n",
    "    def __init__(self):\n",
    "        self.cards = []\n",
    "        self.total_rewards = 0\n",
    "        \n",
    "    @property\n",
    "    def aggregate(self):\n",
    "        return sum(self.cards)\n",
    "    \n",
    "    def drawcard(self, start=False):\n",
    "        card = Card()\n",
    "        card.number = np.random.choice(10) + 1\n",
    "        card.color = 'black' if start else np.random.choice(['red','black'], p=[1/3,2/3])\n",
    "        self.cards.append(card)    \n",
    "    \n",
    "    def reward(self, r):\n",
    "        self.total_rewards += r\n",
    "        \n",
    "    def bust(self):\n",
    "        if self.aggregate > 21 or self.aggregate < 1:\n",
    "            return True\n",
    "        return False\n",
    "    \n",
    "    def __repr__(self):\n",
    "        return str(self.aggregate) + ':' + str(self.cards)\n",
    "    \n",
    "class Dealer(Player):\n",
    "    def __init__(self):\n",
    "        self.cards = []\n",
    "        self.total_rewards = 0\n",
    "    \n",
    "    def play(self):\n",
    "        if self.aggregate < 17:\n",
    "            self.drawcard()\n",
    "            return True\n",
    "        else:\n",
    "            return False\n"
   ]
  },
  {
   "cell_type": "code",
   "execution_count": 311,
   "metadata": {},
   "outputs": [],
   "source": [
    "def step(state, action):\n",
    "    if state.get('terminated'): \n",
    "        print('TERMINATED')\n",
    "        return\n",
    "    \n",
    "    reward = 0\n",
    "    if action == 'hit':\n",
    "        state['player'].drawcard()\n",
    "    \n",
    "        if state['player'].bust():\n",
    "            print('player bust')\n",
    "            state['terminated'] = True\n",
    "            state['player'].reward(-1)\n",
    "            reward = -1\n",
    "        \n",
    "        return state, reward\n",
    "    \n",
    "    while state['dealer'].play():\n",
    "        pass\n",
    "    \n",
    "    state['terminated'] = True\n",
    "    if state['dealer'].bust():\n",
    "        print('dealer bust')\n",
    "        state['player'].reward(1)\n",
    "        reward = 1\n",
    "    else:\n",
    "        p_agg = state['player'].aggregate\n",
    "        d_agg = state['dealer'].aggregate\n",
    "        \n",
    "        if p_agg > d_agg:\n",
    "            state['player'].reward(1)\n",
    "            reward = 1\n",
    "        elif p_agg < d_agg:\n",
    "            state['player'].reward(-1)\n",
    "            reward = -1\n",
    "        else:\n",
    "            state['player'].reward(0)\n",
    "            reward = 0\n",
    "\n",
    "    return state, reward"
   ]
  },
  {
   "cell_type": "code",
   "execution_count": 325,
   "metadata": {},
   "outputs": [],
   "source": [
    "player = Player()\n",
    "dealer = Dealer()\n",
    "\n",
    "state = { 'player': player,\n",
    "          'dealer': dealer }\n",
    "\n",
    "player.drawcard(True)\n",
    "dealer.drawcard(True)"
   ]
  },
  {
   "cell_type": "code",
   "execution_count": 326,
   "metadata": {},
   "outputs": [
    {
     "name": "stdout",
     "output_type": "stream",
     "text": [
      "{'player': 4:[4:black], 'dealer': 4:[4:black]}\n"
     ]
    }
   ],
   "source": [
    "print(state)"
   ]
  },
  {
   "cell_type": "code",
   "execution_count": 327,
   "metadata": {},
   "outputs": [
    {
     "name": "stdout",
     "output_type": "stream",
     "text": [
      "{'player': 11:[4:black, 7:black], 'dealer': 4:[4:black]} 0\n"
     ]
    }
   ],
   "source": [
    "state, reward = step(state, 'hit')\n",
    "print(state, reward)"
   ]
  },
  {
   "cell_type": "code",
   "execution_count": null,
   "metadata": {
    "collapsed": true
   },
   "outputs": [],
   "source": []
  }
 ],
 "metadata": {
  "kernelspec": {
   "display_name": "Python 3",
   "language": "python",
   "name": "python3"
  },
  "language_info": {
   "codemirror_mode": {
    "name": "ipython",
    "version": 3
   },
   "file_extension": ".py",
   "mimetype": "text/x-python",
   "name": "python",
   "nbconvert_exporter": "python",
   "pygments_lexer": "ipython3",
   "version": "3.6.0"
  }
 },
 "nbformat": 4,
 "nbformat_minor": 2
}
